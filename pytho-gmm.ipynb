{
 "cells": [
  {
   "cell_type": "code",
   "execution_count": 10,
   "source": [
    "%matplotlib inline\n",
    "import numpy as np\n",
    "import matplotlib.pyplot as plt\n",
    "from sklearn.mixture import GaussianMixture"
   ],
   "outputs": [],
   "metadata": {}
  },
  {
   "cell_type": "code",
   "execution_count": 11,
   "source": [
    "y = np.random.poisson(lam=1.0, size=1000)\n",
    "y = np.append(y, np.random.poisson(lam=2.0, size=1000) + 3)\n",
    "plt.hist(y)"
   ],
   "outputs": [
    {
     "output_type": "execute_result",
     "data": {
      "text/plain": [
       "(array([722., 195., 193., 290., 271., 182.,  90.,  40.,  14.,   3.]),\n",
       " array([ 0. ,  1.1,  2.2,  3.3,  4.4,  5.5,  6.6,  7.7,  8.8,  9.9, 11. ]),\n",
       " <BarContainer object of 10 artists>)"
      ]
     },
     "metadata": {},
     "execution_count": 11
    },
    {
     "output_type": "display_data",
     "data": {
      "text/plain": [
       "<Figure size 432x288 with 1 Axes>"
      ],
      "image/png": "[encoded data removed]"
     },
     "metadata": {
      "needs_background": "light"
     }
    }
   ],
   "metadata": {}
  },
  {
   "cell_type": "code",
   "execution_count": 22,
   "source": [
    "gmm = GaussianMixture(n_components=10)\n",
    "gmm.fit(y.reshape(-1, 1))\n",
    "print(gmm.means_)\n",
    "print(gmm.covariances_)"
   ],
   "outputs": [
    {
     "output_type": "stream",
     "name": "stdout",
     "text": [
      "[[6.        ]\n",
      " [1.        ]\n",
      " [4.        ]\n",
      " [0.        ]\n",
      " [9.23511848]\n",
      " [5.        ]\n",
      " [2.        ]\n",
      " [3.        ]\n",
      " [7.        ]\n",
      " [8.        ]]\n",
      "[[[1.00000000e-06]]\n",
      "\n",
      " [[1.00000000e-06]]\n",
      "\n",
      " [[1.00000000e-06]]\n",
      "\n",
      " [[1.00000000e-06]]\n",
      "\n",
      " [[2.97754508e-01]]\n",
      "\n",
      " [[1.00000000e-06]]\n",
      "\n",
      " [[1.00000000e-06]]\n",
      "\n",
      " [[1.00000000e-06]]\n",
      "\n",
      " [[1.00000000e-06]]\n",
      "\n",
      " [[1.00000000e-06]]]\n"
     ]
    }
   ],
   "metadata": {}
  },
  {
   "cell_type": "code",
   "execution_count": null,
   "source": [],
   "outputs": [],
   "metadata": {}
  }
 ],
 "metadata": {
  "orig_nbformat": 4,
  "language_info": {
   "name": "python",
   "version": "3.9.6",
   "mimetype": "text/x-python",
   "codemirror_mode": {
    "name": "ipython",
    "version": 3
   },
   "pygments_lexer": "ipython3",
   "nbconvert_exporter": "python",
   "file_extension": ".py"
  },
  "kernelspec": {
   "name": "python3",
   "display_name": "Python 3.9.6 64-bit ('R': conda)"
  },
  "interpreter": {
   "hash": "d1ac37f88e071b4177e33b97c73a964753f94d7cc48640f9e452d08a63e2f829"
  }
 },
 "nbformat": 4,
 "nbformat_minor": 2
}