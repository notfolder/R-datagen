{
 "cells": [
  {
   "cell_type": "code",
   "execution_count": 29,
   "source": [
    "%matplotlib inline\n",
    "import numpy as np\n",
    "import matplotlib.pyplot as plt\n",
    "from sklearn.mixture import GaussianMixture"
   ],
   "outputs": [],
   "metadata": {}
  },
  {
   "cell_type": "code",
   "execution_count": 100,
   "source": [
    "from sklearn.base import BaseEstimator, TransformerMixin\n",
    "import scipy\n",
    "from math import sqrt\n",
    "from collections import Counter\n",
    "\n",
    "# sklearnのTransformerにしたので、fit_tramsformを呼ぶと外れ値の閾値を返す\n",
    "class OutlyerModel(BaseEstimator, TransformerMixin):\n",
    "\n",
    "    def __init__(self, p = 0.99, search_list = list(range(1, 11)), parcentile = 0):\n",
    "        self._p = p\n",
    "        self._search_list = search_list\n",
    "        self._parcentile = parcentile\n",
    "        self._component_selection_method = self.simple\n",
    "        if parcentile > 0:\n",
    "            self._component_selection_method = self.parcentile\n",
    "\n",
    "    def gmm_search(self, x):\n",
    "        search_list = self._search_list\n",
    "        # 最小のBICのクラス数を三分探索をする\n",
    "        # https://qiita.com/DaikiSuyama/items/84df26daad11cf7da453\n",
    "        sarch_list_size = len(search_list)\n",
    "        left = 0\n",
    "        right = sarch_list_size - 1\n",
    "\n",
    "        gmms = [None] * sarch_list_size\n",
    "        bics = [None] * sarch_list_size\n",
    "\n",
    "        self.gmm_fit_count_ = 0\n",
    "        # 各インデックスのクラス数のBICを計算、もしくはキャッシュから得る\n",
    "        def get_bic(index):\n",
    "            if (bics[index] is None):\n",
    "                gmm = GaussianMixture(n_components=search_list[index], reg_covar=1.0e-3)\n",
    "                gmm = gmm.fit(x)\n",
    "                bic = gmm.bic(x)\n",
    "                gmms[index] = gmm\n",
    "                bics[index] = bic\n",
    "                self.gmm_fit_count_ += 1\n",
    "                return bic\n",
    "            return bics[index]\n",
    "\n",
    "        # right=left,left+1,left+2のいずれかになれば探索終了\n",
    "        while(left + 2 < right):\n",
    "            centor1 = left + (right - left) // 3\n",
    "            centor2 = right - (right - left) // 3\n",
    "\n",
    "            # 3分点を計算する\n",
    "            centor1_bic = get_bic(centor1)\n",
    "            centor2_bic = get_bic(centor2)\n",
    "            if centor1_bic < centor2_bic:\n",
    "                right = centor2\n",
    "            else:\n",
    "                left = centor1\n",
    "\n",
    "        # left-rightの間の最小値が最小値\n",
    "        min_bic = float('inf')\n",
    "        min_index = -1\n",
    "        for i in range(left, right+1):\n",
    "            bic = get_bic(i)\n",
    "            if bic < min_bic:\n",
    "                min_bic = bic\n",
    "                min_index = i\n",
    "        return min_index, bics, gmms\n",
    "\n",
    "    def fit(self, X):\n",
    "        return self\n",
    "\n",
    "    def predict(self, X):\n",
    "        x = X.reshape((-1,1))\n",
    "        return self.gmm_.predict(x)\n",
    "    \n",
    "    def simple(self, x):\n",
    "        means = self.gmm_.means_\n",
    "        return np.argmax(means), np.argmin(means)\n",
    "\n",
    "    def parcentile(self, x):\n",
    "        # parcentileで指定されたパーセンタイルを含むcomponentの中で最大と最小で外れ値を判断する\n",
    "        # selectsに指定されたパーセンタイルになるまでindexを集める\n",
    "        components = self.gmm_.predict(x)\n",
    "        size = len(components)\n",
    "        counter = Counter(components)\n",
    "        sum = 0\n",
    "        selects = []\n",
    "        for i, count in counter.most_common():\n",
    "            selects.append(i)\n",
    "            sum += count\n",
    "            if sum / size > (1 - self._parcentile):\n",
    "                break\n",
    "        \n",
    "        # selectsに集まった平均値の中から最大と最小の平均値のindexを得る\n",
    "        max_mean = -float('inf')\n",
    "        min_mean = float('inf')\n",
    "        max_index = 0\n",
    "        min_index = 0\n",
    "        means = self.gmm_.means_\n",
    "        for i in selects:\n",
    "            if max_mean < means[i]:\n",
    "                max_index = i\n",
    "                max_mean = means[i]\n",
    "            if means[i] < min_mean:\n",
    "                min_index = i\n",
    "                min_mean = means[i]\n",
    "        return max_index, min_index\n",
    "\n",
    "    def transform(self, X):\n",
    "        # 最良のbicが得られるgmmを探索する\n",
    "        x = X.reshape((-1,1))\n",
    "        min_index, bics, gmms = self.gmm_search(x)\n",
    "        self.min_index_ = min_index\n",
    "        self.bics_ = bics\n",
    "        self.gmms_ = gmms\n",
    "        self.gmm_ = gmms[min_index]\n",
    "        self.n_components_ = self._search_list[min_index]\n",
    "\n",
    "        # 推定結果のうち、最大の物と最小の物の分布でホテリング法を用いて99%閾値を求める\n",
    "        gmm = self.gmm_\n",
    "        #index_max = np.argmax(gmm.means_)\n",
    "        #index_min = np.argmin(gmm.means_)\n",
    "        index_max, index_min = self._component_selection_method(x)\n",
    "        mu = gmm.means_[index_max]\n",
    "        s2 = gmm.covariances_[index_max]\n",
    "        thr = scipy.stats.chi2.ppf(self._p, 1)\n",
    "        thr_high = (2 * mu + sqrt((mu * -2) ** 2 - 4 * (mu ** 2 - thr * s2))) / 2\n",
    "        mu = gmm.means_[index_min]\n",
    "        s2 = gmm.covariances_[index_min]\n",
    "        thr_low = (2 * mu - sqrt((mu * -2) ** 2 - 4 * (mu ** 2 - thr * s2))) / 2\n",
    "        return thr_high, thr_low\n"
   ],
   "outputs": [],
   "metadata": {}
  },
  {
   "cell_type": "code",
   "execution_count": 53,
   "source": [
    "y = np.random.poisson(lam=1.0, size=1000)\n",
    "y = np.append(y, np.random.poisson(lam=2.0, size=1000) + 3)\n",
    "y[1999] = 12\n",
    "plt.hist(y)"
   ],
   "outputs": [
    {
     "output_type": "execute_result",
     "data": {
      "text/plain": [
       "(array([734., 188., 194., 268., 262., 293.,  42.,  14.,   3.,   2.]),\n",
       " array([ 0. ,  1.2,  2.4,  3.6,  4.8,  6. ,  7.2,  8.4,  9.6, 10.8, 12. ]),\n",
       " <BarContainer object of 10 artists>)"
      ]
     },
     "metadata": {},
     "execution_count": 53
    },
    {
     "output_type": "display_data",
     "data": {
      "text/plain": [
       "<Figure size 432x288 with 1 Axes>"
      ],
      "image/png": "[encoded data removed]"
     },
     "metadata": {
      "needs_background": "light"
     }
    }
   ],
   "metadata": {}
  },
  {
   "cell_type": "code",
   "execution_count": 101,
   "source": [
    "outlyer = OutlyerModel()\n",
    "outlyer.fit_transform(y)"
   ],
   "outputs": [
    {
     "output_type": "execute_result",
     "data": {
      "text/plain": [
       "(array([11.90107237]), array([-0.08145487]))"
      ]
     },
     "metadata": {},
     "execution_count": 101
    }
   ],
   "metadata": {}
  },
  {
   "cell_type": "code",
   "execution_count": 109,
   "source": [
    "outlyer = OutlyerModel(parcentile=0.001)\n",
    "outlyer.fit_transform(y)"
   ],
   "outputs": [
    {
     "output_type": "execute_result",
     "data": {
      "text/plain": [
       "(array([11.90107237]), array([-0.08145487]))"
      ]
     },
     "metadata": {},
     "execution_count": 109
    }
   ],
   "metadata": {}
  },
  {
   "cell_type": "code",
   "execution_count": 75,
   "source": [
    "outlyer.predict(y)"
   ],
   "outputs": [
    {
     "output_type": "execute_result",
     "data": {
      "text/plain": [
       "array([7, 4, 7, ..., 8, 1, 9])"
      ]
     },
     "metadata": {},
     "execution_count": 75
    }
   ],
   "metadata": {}
  },
  {
   "cell_type": "code",
   "execution_count": 79,
   "source": [
    "display(outlyer.min_index_)\n",
    "display(outlyer.bics_)\n",
    "outlyer.gmm_fit_count_"
   ],
   "outputs": [
    {
     "output_type": "display_data",
     "data": {
      "text/plain": [
       "9"
      ]
     },
     "metadata": {}
    },
    {
     "output_type": "display_data",
     "data": {
      "text/plain": [
       "[None,\n",
       " None,\n",
       " None,\n",
       " 7545.717418452366,\n",
       " None,\n",
       " 4626.5182068908625,\n",
       " 3175.6803952283176,\n",
       " 331.8185748984322,\n",
       " -1120.0173963210564,\n",
       " -1336.9683718593683]"
      ]
     },
     "metadata": {}
    },
    {
     "output_type": "execute_result",
     "data": {
      "text/plain": [
       "6"
      ]
     },
     "metadata": {},
     "execution_count": 79
    }
   ],
   "metadata": {}
  },
  {
   "cell_type": "code",
   "execution_count": null,
   "source": [],
   "outputs": [],
   "metadata": {}
  }
 ],
 "metadata": {
  "orig_nbformat": 4,
  "language_info": {
   "name": "python",
   "version": "3.9.6",
   "mimetype": "text/x-python",
   "codemirror_mode": {
    "name": "ipython",
    "version": 3
   },
   "pygments_lexer": "ipython3",
   "nbconvert_exporter": "python",
   "file_extension": ".py"
  },
  "kernelspec": {
   "name": "python3",
   "display_name": "Python 3.9.6 64-bit ('R': conda)"
  },
  "interpreter": {
   "hash": "d1ac37f88e071b4177e33b97c73a964753f94d7cc48640f9e452d08a63e2f829"
  }
 },
 "nbformat": 4,
 "nbformat_minor": 2
}